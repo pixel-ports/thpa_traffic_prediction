{
 "cells": [
  {
   "cell_type": "code",
   "execution_count": 14,
   "metadata": {},
   "outputs": [],
   "source": [
    "import pandas as pd\n",
    "import pyarrow\n",
    "\n",
    "traffic_volume_csv = \"../data/thpa_traffic_volume_prepared.csv\""
   ]
  },
  {
   "cell_type": "code",
   "execution_count": 15,
   "metadata": {},
   "outputs": [],
   "source": [
    "df = pd.read_csv(traffic_volume_csv)"
   ]
  },
  {
   "cell_type": "code",
   "execution_count": 16,
   "metadata": {},
   "outputs": [
    {
     "data": {
      "text/plain": [
       "Gate 16 - Exit #1        363868\n",
       "Gate 10A - Entry         363240\n",
       "Gate 10A - Exit          345819\n",
       "Gate 16 - Entrance #3    123457\n",
       "Gate 16 - Entrance #1    119017\n",
       "Gate 16 - Entrance #2     85417\n",
       "Gate 16 - Entrance #4     19584\n",
       "Gate 16 - Exit #2          1028\n",
       "Name: location_id, dtype: int64"
      ]
     },
     "execution_count": 16,
     "metadata": {},
     "output_type": "execute_result"
    }
   ],
   "source": [
    "df[\"location_id\"].value_counts()"
   ]
  },
  {
   "cell_type": "code",
   "execution_count": 17,
   "metadata": {},
   "outputs": [],
   "source": [
    "df[\"location_id\"] = df[\"location_id\"].str.split(\" \").str[:4].str.join(\" \")"
   ]
  },
  {
   "cell_type": "code",
   "execution_count": 18,
   "metadata": {},
   "outputs": [],
   "source": [
    "df = df.set_index(\"timestamp\").groupby(\"location_id\").resample(\"1 h\").count().rename(columns={\"location_id\": \"volume\"}).reset_index()"
   ]
  },
  {
   "cell_type": "code",
   "execution_count": 19,
   "metadata": {},
   "outputs": [],
   "source": [
    "for location_id in df[\"location_id\"].unique():\n",
    "    data = df[df[\"location_id\"] == location_id].copy()\n",
    "    data = data.drop(columns=[\"location_id\"])\n",
    "    data.to_csv(traffic_volume_per_location_csv.format(location_id), index=False)\n",
    "    data.reset_index(drop=True).to_feather(traffic_volume_per_location_feather.format(location_id))    "
   ]
  },
  {
   "cell_type": "code",
   "execution_count": 20,
   "metadata": {},
   "outputs": [],
   "source": [
    "df.to_csv(traffic_volume_csv, index=False)\n",
    "df.reset_index(drop=True).to_feather(traffic_volume_feather)"
   ]
  },
  {
   "cell_type": "code",
   "execution_count": 21,
   "metadata": {},
   "outputs": [
    {
     "data": {
      "text/plain": [
       "Gate 10A - Entry      15552\n",
       "Gate 10A - Exit       15550\n",
       "Gate 16 - Exit        15546\n",
       "Gate 16 - Entrance    15544\n",
       "Name: location_id, dtype: int64"
      ]
     },
     "execution_count": 21,
     "metadata": {},
     "output_type": "execute_result"
    }
   ],
   "source": [
    "df[\"location_id\"].value_counts()"
   ]
  },
  {
   "cell_type": "code",
   "execution_count": 23,
   "metadata": {},
   "outputs": [
    {
     "data": {
      "text/html": [
       "<div>\n",
       "<style scoped>\n",
       "    .dataframe tbody tr th:only-of-type {\n",
       "        vertical-align: middle;\n",
       "    }\n",
       "\n",
       "    .dataframe tbody tr th {\n",
       "        vertical-align: top;\n",
       "    }\n",
       "\n",
       "    .dataframe thead th {\n",
       "        text-align: right;\n",
       "    }\n",
       "</style>\n",
       "<table border=\"1\" class=\"dataframe\">\n",
       "  <thead>\n",
       "    <tr style=\"text-align: right;\">\n",
       "      <th></th>\n",
       "      <th>location_id</th>\n",
       "      <th>timestamp</th>\n",
       "      <th>volume</th>\n",
       "    </tr>\n",
       "  </thead>\n",
       "  <tbody>\n",
       "    <tr>\n",
       "      <td>0</td>\n",
       "      <td>Gate 10A - Entry</td>\n",
       "      <td>2018-04-28 00:00:00</td>\n",
       "      <td>1</td>\n",
       "    </tr>\n",
       "    <tr>\n",
       "      <td>1</td>\n",
       "      <td>Gate 10A - Entry</td>\n",
       "      <td>2018-04-28 01:00:00</td>\n",
       "      <td>0</td>\n",
       "    </tr>\n",
       "    <tr>\n",
       "      <td>2</td>\n",
       "      <td>Gate 10A - Entry</td>\n",
       "      <td>2018-04-28 02:00:00</td>\n",
       "      <td>0</td>\n",
       "    </tr>\n",
       "    <tr>\n",
       "      <td>3</td>\n",
       "      <td>Gate 10A - Entry</td>\n",
       "      <td>2018-04-28 03:00:00</td>\n",
       "      <td>0</td>\n",
       "    </tr>\n",
       "    <tr>\n",
       "      <td>4</td>\n",
       "      <td>Gate 10A - Entry</td>\n",
       "      <td>2018-04-28 04:00:00</td>\n",
       "      <td>1</td>\n",
       "    </tr>\n",
       "    <tr>\n",
       "      <td>...</td>\n",
       "      <td>...</td>\n",
       "      <td>...</td>\n",
       "      <td>...</td>\n",
       "    </tr>\n",
       "    <tr>\n",
       "      <td>62187</td>\n",
       "      <td>Gate 16 - Exit</td>\n",
       "      <td>2020-02-04 19:00:00</td>\n",
       "      <td>11</td>\n",
       "    </tr>\n",
       "    <tr>\n",
       "      <td>62188</td>\n",
       "      <td>Gate 16 - Exit</td>\n",
       "      <td>2020-02-04 20:00:00</td>\n",
       "      <td>11</td>\n",
       "    </tr>\n",
       "    <tr>\n",
       "      <td>62189</td>\n",
       "      <td>Gate 16 - Exit</td>\n",
       "      <td>2020-02-04 21:00:00</td>\n",
       "      <td>8</td>\n",
       "    </tr>\n",
       "    <tr>\n",
       "      <td>62190</td>\n",
       "      <td>Gate 16 - Exit</td>\n",
       "      <td>2020-02-04 22:00:00</td>\n",
       "      <td>0</td>\n",
       "    </tr>\n",
       "    <tr>\n",
       "      <td>62191</td>\n",
       "      <td>Gate 16 - Exit</td>\n",
       "      <td>2020-02-04 23:00:00</td>\n",
       "      <td>1</td>\n",
       "    </tr>\n",
       "  </tbody>\n",
       "</table>\n",
       "<p>62192 rows × 3 columns</p>\n",
       "</div>"
      ],
      "text/plain": [
       "            location_id           timestamp  volume\n",
       "0      Gate 10A - Entry 2018-04-28 00:00:00       1\n",
       "1      Gate 10A - Entry 2018-04-28 01:00:00       0\n",
       "2      Gate 10A - Entry 2018-04-28 02:00:00       0\n",
       "3      Gate 10A - Entry 2018-04-28 03:00:00       0\n",
       "4      Gate 10A - Entry 2018-04-28 04:00:00       1\n",
       "...                 ...                 ...     ...\n",
       "62187    Gate 16 - Exit 2020-02-04 19:00:00      11\n",
       "62188    Gate 16 - Exit 2020-02-04 20:00:00      11\n",
       "62189    Gate 16 - Exit 2020-02-04 21:00:00       8\n",
       "62190    Gate 16 - Exit 2020-02-04 22:00:00       0\n",
       "62191    Gate 16 - Exit 2020-02-04 23:00:00       1\n",
       "\n",
       "[62192 rows x 3 columns]"
      ]
     },
     "execution_count": 23,
     "metadata": {},
     "output_type": "execute_result"
    }
   ],
   "source": [
    "df"
   ]
  }
 ],
 "metadata": {
  "kernelspec": {
   "display_name": "Python 3",
   "language": "python",
   "name": "python3"
  },
  "language_info": {
   "codemirror_mode": {
    "name": "ipython",
    "version": 3
   },
   "file_extension": ".py",
   "mimetype": "text/x-python",
   "name": "python",
   "nbconvert_exporter": "python",
   "pygments_lexer": "ipython3",
   "version": "3.7.4"
  }
 },
 "nbformat": 4,
 "nbformat_minor": 2
}